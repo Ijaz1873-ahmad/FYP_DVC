{
 "cells": [
  {
   "cell_type": "markdown",
   "id": "55cc02f9",
   "metadata": {},
   "source": [
    "# Students- Info\n",
    "#### Salman Saeed Ijaz Ahmad Danial Sadiq"
   ]
  },
  {
   "cell_type": "code",
   "execution_count": null,
   "id": "c4420445",
   "metadata": {},
   "outputs": [],
   "source": []
  },
  {
   "cell_type": "markdown",
   "id": "1e62f39d",
   "metadata": {},
   "source": [
    "# FYP"
   ]
  },
  {
   "cell_type": "markdown",
   "id": "6075ff55",
   "metadata": {},
   "source": [
    "###### This notebook is working on PPG signals\n",
    "###### PPG signals are those signals which generate with \n",
    "###### circulation of blood in the fingertips\n",
    "###### This will help to predict af = 0, non_af = 1\n",
    "###### Thrugh fingertips sensor "
   ]
  },
  {
   "cell_type": "markdown",
   "id": "37c70f64",
   "metadata": {},
   "source": [
    "## Libaries"
   ]
  },
  {
   "cell_type": "code",
   "execution_count": 1,
   "id": "3ed7be8d",
   "metadata": {},
   "outputs": [],
   "source": [
    "import pandas as pd\n",
    "import os\n",
    "from sklearn.utils import shuffle\n",
    "import warnings\n",
    "warnings.filterwarnings(\"ignore\")"
   ]
  },
  {
   "cell_type": "code",
   "execution_count": 2,
   "id": "025aedc1",
   "metadata": {},
   "outputs": [],
   "source": [
    "from sklearn.model_selection import train_test_split\n",
    "from sklearn.ensemble import RandomForestClassifier\n",
    "from sklearn.metrics import accuracy_score, classification_report"
   ]
  },
  {
   "cell_type": "code",
   "execution_count": null,
   "id": "d18e27f2",
   "metadata": {},
   "outputs": [],
   "source": []
  },
  {
   "cell_type": "markdown",
   "id": "3615f604",
   "metadata": {},
   "source": [
    "## Pre Step"
   ]
  },
  {
   "cell_type": "code",
   "execution_count": 3,
   "id": "fe71110d",
   "metadata": {},
   "outputs": [],
   "source": [
    "def Extract_5Min_Data(Folder, OutPut_Folder ,label = 0):\n",
    "    for file in os.listdir(Folder):\n",
    "        if file.endswith(\".csv\"):\n",
    "            filePath = os.path.join(Folder, file)\n",
    "            df = pd.read_csv(filePath)[:630]\n",
    "            df[\"Class\"] = label\n",
    "            new_FileName = file\n",
    "            output_Path = os.path.join(OutPut_Folder, new_FileName)\n",
    "            df.to_csv(output_Path, index = False)\n",
    "      "
   ]
  },
  {
   "cell_type": "code",
   "execution_count": 4,
   "id": "d81dd364",
   "metadata": {},
   "outputs": [
    {
     "ename": "FileNotFoundError",
     "evalue": "[WinError 3] The system cannot find the path specified: './mimic_perform_af_csv/'",
     "output_type": "error",
     "traceback": [
      "\u001b[1;31m---------------------------------------------------------------------------\u001b[0m",
      "\u001b[1;31mFileNotFoundError\u001b[0m                         Traceback (most recent call last)",
      "Cell \u001b[1;32mIn[4], line 3\u001b[0m\n\u001b[0;32m      1\u001b[0m mimic_af_folder \u001b[38;5;241m=\u001b[39m \u001b[38;5;124m\"\u001b[39m\u001b[38;5;124m./mimic_perform_af_csv/\u001b[39m\u001b[38;5;124m\"\u001b[39m\n\u001b[0;32m      2\u001b[0m output_af_Folder \u001b[38;5;241m=\u001b[39m \u001b[38;5;124m\"\u001b[39m\u001b[38;5;124m./OutPut_AF/\u001b[39m\u001b[38;5;124m\"\u001b[39m\n\u001b[1;32m----> 3\u001b[0m Extract_5Min_Data(mimic_af_folder, output_af_Folder)\n\u001b[0;32m      5\u001b[0m mimic_non_af_folder \u001b[38;5;241m=\u001b[39m \u001b[38;5;124m\"\u001b[39m\u001b[38;5;124m./mimic_perform_non_af_csv/\u001b[39m\u001b[38;5;124m\"\u001b[39m\n\u001b[0;32m      6\u001b[0m output_non_af_Folder \u001b[38;5;241m=\u001b[39m \u001b[38;5;124m\"\u001b[39m\u001b[38;5;124m./OutPut_Non_AF/\u001b[39m\u001b[38;5;124m\"\u001b[39m\n",
      "Cell \u001b[1;32mIn[3], line 2\u001b[0m, in \u001b[0;36mExtract_5Min_Data\u001b[1;34m(Folder, OutPut_Folder, label)\u001b[0m\n\u001b[0;32m      1\u001b[0m \u001b[38;5;28;01mdef\u001b[39;00m \u001b[38;5;21mExtract_5Min_Data\u001b[39m(Folder, OutPut_Folder ,label \u001b[38;5;241m=\u001b[39m \u001b[38;5;241m0\u001b[39m):\n\u001b[1;32m----> 2\u001b[0m     \u001b[38;5;28;01mfor\u001b[39;00m file \u001b[38;5;129;01min\u001b[39;00m os\u001b[38;5;241m.\u001b[39mlistdir(Folder):\n\u001b[0;32m      3\u001b[0m         \u001b[38;5;28;01mif\u001b[39;00m file\u001b[38;5;241m.\u001b[39mendswith(\u001b[38;5;124m\"\u001b[39m\u001b[38;5;124m.csv\u001b[39m\u001b[38;5;124m\"\u001b[39m):\n\u001b[0;32m      4\u001b[0m             filePath \u001b[38;5;241m=\u001b[39m os\u001b[38;5;241m.\u001b[39mpath\u001b[38;5;241m.\u001b[39mjoin(Folder, file)\n",
      "\u001b[1;31mFileNotFoundError\u001b[0m: [WinError 3] The system cannot find the path specified: './mimic_perform_af_csv/'"
     ]
    }
   ],
   "source": [
    "mimic_af_folder = \"./data/raw_data/mimic_perform_af_csv/\"\n",
    "output_af_Folder = \"./data/raw_data/OutPut_AF/\"\n",
    "Extract_5Min_Data(mimic_af_folder, output_af_Folder)\n",
    "\n",
    "mimic_non_af_folder = \"./data/raw_data/mimic_perform_non_af_csv/\"\n",
    "output_non_af_Folder = \"./data/raw_data/OutPut_Non_AF/\"\n",
    "Extract_5Min_Data(mimic_non_af_folder, output_non_af_Folder, 1)"
   ]
  },
  {
   "cell_type": "code",
   "execution_count": 50,
   "id": "cc289e71",
   "metadata": {},
   "outputs": [],
   "source": [
    "def make_Dataset(folder1, folder2):\n",
    "    \n",
    "    folderList = [folder1, folder2]\n",
    "    combine_df = pd.DataFrame()\n",
    "    \n",
    "    for folder in folderList:\n",
    "        for file in os.listdir(folder):\n",
    "            if file.endswith(\".csv\"):\n",
    "                filePath = os.path.join(folder, file)\n",
    "                df = pd.read_csv(filePath)\n",
    "                combine_df = pd.concat([combine_df, df])\n",
    "    \n",
    "    combine_df = shuffle(combine_df)\n",
    "    output_Path = os.path.join('./', \"PPG_Signals.csv\")\n",
    "    combine_df.to_csv(output_Path, index = False)"
   ]
  },
  {
   "cell_type": "code",
   "execution_count": 51,
   "id": "48e93ef1",
   "metadata": {},
   "outputs": [],
   "source": [
    "make_Dataset(output_af_Folder, output_non_af_Folder)"
   ]
  },
  {
   "cell_type": "code",
   "execution_count": null,
   "id": "90e9e282",
   "metadata": {},
   "outputs": [],
   "source": []
  },
  {
   "cell_type": "markdown",
   "id": "bc0b5ba7",
   "metadata": {},
   "source": [
    "## Load Dataset"
   ]
  },
  {
   "cell_type": "code",
   "execution_count": 29,
   "id": "bbfbfec3",
   "metadata": {},
   "outputs": [
    {
     "data": {
      "text/html": [
       "<div>\n",
       "<style scoped>\n",
       "    .dataframe tbody tr th:only-of-type {\n",
       "        vertical-align: middle;\n",
       "    }\n",
       "\n",
       "    .dataframe tbody tr th {\n",
       "        vertical-align: top;\n",
       "    }\n",
       "\n",
       "    .dataframe thead th {\n",
       "        text-align: right;\n",
       "    }\n",
       "</style>\n",
       "<table border=\"1\" class=\"dataframe\">\n",
       "  <thead>\n",
       "    <tr style=\"text-align: right;\">\n",
       "      <th></th>\n",
       "      <th>Time</th>\n",
       "      <th>PPG</th>\n",
       "      <th>ECG</th>\n",
       "      <th>resp</th>\n",
       "      <th>Class</th>\n",
       "    </tr>\n",
       "  </thead>\n",
       "  <tbody>\n",
       "    <tr>\n",
       "      <th>0</th>\n",
       "      <td>0.856</td>\n",
       "      <td>0.486275</td>\n",
       "      <td>0.740157</td>\n",
       "      <td>NaN</td>\n",
       "      <td>0</td>\n",
       "    </tr>\n",
       "    <tr>\n",
       "      <th>1</th>\n",
       "      <td>3.216</td>\n",
       "      <td>0.388235</td>\n",
       "      <td>0.039370</td>\n",
       "      <td>NaN</td>\n",
       "      <td>0</td>\n",
       "    </tr>\n",
       "    <tr>\n",
       "      <th>2</th>\n",
       "      <td>0.408</td>\n",
       "      <td>1.800587</td>\n",
       "      <td>0.309873</td>\n",
       "      <td>0.160308</td>\n",
       "      <td>0</td>\n",
       "    </tr>\n",
       "    <tr>\n",
       "      <th>3</th>\n",
       "      <td>3.968</td>\n",
       "      <td>0.627451</td>\n",
       "      <td>0.472441</td>\n",
       "      <td>NaN</td>\n",
       "      <td>0</td>\n",
       "    </tr>\n",
       "    <tr>\n",
       "      <th>4</th>\n",
       "      <td>0.592</td>\n",
       "      <td>0.472141</td>\n",
       "      <td>0.130859</td>\n",
       "      <td>0.432063</td>\n",
       "      <td>0</td>\n",
       "    </tr>\n",
       "  </tbody>\n",
       "</table>\n",
       "</div>"
      ],
      "text/plain": [
       "    Time       PPG       ECG      resp  Class\n",
       "0  0.856  0.486275  0.740157       NaN      0\n",
       "1  3.216  0.388235  0.039370       NaN      0\n",
       "2  0.408  1.800587  0.309873  0.160308      0\n",
       "3  3.968  0.627451  0.472441       NaN      0\n",
       "4  0.592  0.472141  0.130859  0.432063      0"
      ]
     },
     "execution_count": 29,
     "metadata": {},
     "output_type": "execute_result"
    }
   ],
   "source": [
    "df = pd.read_csv('PPG_Signals.csv')\n",
    "df.head()"
   ]
  },
  {
   "cell_type": "code",
   "execution_count": null,
   "id": "45ede9f8",
   "metadata": {},
   "outputs": [],
   "source": []
  },
  {
   "cell_type": "markdown",
   "id": "ad73c786",
   "metadata": {},
   "source": [
    "## Explore Dataset"
   ]
  },
  {
   "cell_type": "code",
   "execution_count": 30,
   "id": "05f78a28",
   "metadata": {},
   "outputs": [
    {
     "name": "stdout",
     "output_type": "stream",
     "text": [
      "<class 'pandas.core.frame.DataFrame'>\n",
      "RangeIndex: 22050 entries, 0 to 22049\n",
      "Data columns (total 5 columns):\n",
      " #   Column  Non-Null Count  Dtype  \n",
      "---  ------  --------------  -----  \n",
      " 0   Time    22050 non-null  float64\n",
      " 1   PPG     21742 non-null  float64\n",
      " 2   ECG     22050 non-null  float64\n",
      " 3   resp    16380 non-null  float64\n",
      " 4   Class   22050 non-null  int64  \n",
      "dtypes: float64(4), int64(1)\n",
      "memory usage: 861.5 KB\n"
     ]
    }
   ],
   "source": [
    "df.info()"
   ]
  },
  {
   "cell_type": "code",
   "execution_count": 31,
   "id": "d8c6fb0d",
   "metadata": {},
   "outputs": [
    {
     "data": {
      "text/plain": [
       "Time        0\n",
       "PPG       308\n",
       "ECG         0\n",
       "resp     5670\n",
       "Class       0\n",
       "dtype: int64"
      ]
     },
     "execution_count": 31,
     "metadata": {},
     "output_type": "execute_result"
    }
   ],
   "source": [
    "df.isnull().sum()"
   ]
  },
  {
   "cell_type": "code",
   "execution_count": 32,
   "id": "13868656",
   "metadata": {},
   "outputs": [],
   "source": [
    "df[\"PPG\"].fillna(df[\"PPG\"].mean(), inplace = True)\n",
    "df[\"resp\"].fillna(df[\"resp\"].mean(), inplace = True)\n",
    "\n",
    "df.drop(\"Time\", axis = 1, inplace = True)"
   ]
  },
  {
   "cell_type": "code",
   "execution_count": 33,
   "id": "893b60de",
   "metadata": {},
   "outputs": [
    {
     "data": {
      "text/plain": [
       "PPG      0\n",
       "ECG      0\n",
       "resp     0\n",
       "Class    0\n",
       "dtype: int64"
      ]
     },
     "execution_count": 33,
     "metadata": {},
     "output_type": "execute_result"
    }
   ],
   "source": [
    "df.isnull().sum()"
   ]
  },
  {
   "cell_type": "code",
   "execution_count": 34,
   "id": "96b20c6e",
   "metadata": {},
   "outputs": [
    {
     "data": {
      "text/html": [
       "<div>\n",
       "<style scoped>\n",
       "    .dataframe tbody tr th:only-of-type {\n",
       "        vertical-align: middle;\n",
       "    }\n",
       "\n",
       "    .dataframe tbody tr th {\n",
       "        vertical-align: top;\n",
       "    }\n",
       "\n",
       "    .dataframe thead th {\n",
       "        text-align: right;\n",
       "    }\n",
       "</style>\n",
       "<table border=\"1\" class=\"dataframe\">\n",
       "  <thead>\n",
       "    <tr style=\"text-align: right;\">\n",
       "      <th></th>\n",
       "      <th>PPG</th>\n",
       "      <th>ECG</th>\n",
       "      <th>resp</th>\n",
       "      <th>Class</th>\n",
       "    </tr>\n",
       "  </thead>\n",
       "  <tbody>\n",
       "    <tr>\n",
       "      <th>0</th>\n",
       "      <td>0.486275</td>\n",
       "      <td>0.740157</td>\n",
       "      <td>0.221509</td>\n",
       "      <td>0</td>\n",
       "    </tr>\n",
       "    <tr>\n",
       "      <th>1</th>\n",
       "      <td>0.388235</td>\n",
       "      <td>0.039370</td>\n",
       "      <td>0.221509</td>\n",
       "      <td>0</td>\n",
       "    </tr>\n",
       "    <tr>\n",
       "      <th>2</th>\n",
       "      <td>1.800587</td>\n",
       "      <td>0.309873</td>\n",
       "      <td>0.160308</td>\n",
       "      <td>0</td>\n",
       "    </tr>\n",
       "    <tr>\n",
       "      <th>3</th>\n",
       "      <td>0.627451</td>\n",
       "      <td>0.472441</td>\n",
       "      <td>0.221509</td>\n",
       "      <td>0</td>\n",
       "    </tr>\n",
       "    <tr>\n",
       "      <th>4</th>\n",
       "      <td>0.472141</td>\n",
       "      <td>0.130859</td>\n",
       "      <td>0.432063</td>\n",
       "      <td>0</td>\n",
       "    </tr>\n",
       "  </tbody>\n",
       "</table>\n",
       "</div>"
      ],
      "text/plain": [
       "        PPG       ECG      resp  Class\n",
       "0  0.486275  0.740157  0.221509      0\n",
       "1  0.388235  0.039370  0.221509      0\n",
       "2  1.800587  0.309873  0.160308      0\n",
       "3  0.627451  0.472441  0.221509      0\n",
       "4  0.472141  0.130859  0.432063      0"
      ]
     },
     "execution_count": 34,
     "metadata": {},
     "output_type": "execute_result"
    }
   ],
   "source": [
    "df.head()"
   ]
  },
  {
   "cell_type": "code",
   "execution_count": 35,
   "id": "1c8db109",
   "metadata": {},
   "outputs": [
    {
     "name": "stdout",
     "output_type": "stream",
     "text": [
      "<class 'pandas.core.frame.DataFrame'>\n"
     ]
    }
   ],
   "source": [
    "print(type(df))"
   ]
  },
  {
   "cell_type": "code",
   "execution_count": 36,
   "id": "3939d923",
   "metadata": {},
   "outputs": [
    {
     "name": "stdout",
     "output_type": "stream",
     "text": [
      "<class 'pandas.core.frame.DataFrame'>\n",
      "RangeIndex: 22050 entries, 0 to 22049\n",
      "Data columns (total 4 columns):\n",
      " #   Column  Non-Null Count  Dtype  \n",
      "---  ------  --------------  -----  \n",
      " 0   PPG     22050 non-null  float64\n",
      " 1   ECG     22050 non-null  float64\n",
      " 2   resp    22050 non-null  float64\n",
      " 3   Class   22050 non-null  int64  \n",
      "dtypes: float64(3), int64(1)\n",
      "memory usage: 689.2 KB\n"
     ]
    }
   ],
   "source": [
    "df.info()"
   ]
  },
  {
   "cell_type": "code",
   "execution_count": 37,
   "id": "cdef5a05",
   "metadata": {},
   "outputs": [
    {
     "data": {
      "text/html": [
       "<div>\n",
       "<style scoped>\n",
       "    .dataframe tbody tr th:only-of-type {\n",
       "        vertical-align: middle;\n",
       "    }\n",
       "\n",
       "    .dataframe tbody tr th {\n",
       "        vertical-align: top;\n",
       "    }\n",
       "\n",
       "    .dataframe thead th {\n",
       "        text-align: right;\n",
       "    }\n",
       "</style>\n",
       "<table border=\"1\" class=\"dataframe\">\n",
       "  <thead>\n",
       "    <tr style=\"text-align: right;\">\n",
       "      <th></th>\n",
       "      <th>PPG</th>\n",
       "      <th>ECG</th>\n",
       "      <th>resp</th>\n",
       "      <th>Class</th>\n",
       "    </tr>\n",
       "  </thead>\n",
       "  <tbody>\n",
       "    <tr>\n",
       "      <th>0</th>\n",
       "      <td>0.486275</td>\n",
       "      <td>0.740157</td>\n",
       "      <td>0.221509</td>\n",
       "      <td>0</td>\n",
       "    </tr>\n",
       "    <tr>\n",
       "      <th>1</th>\n",
       "      <td>0.388235</td>\n",
       "      <td>0.039370</td>\n",
       "      <td>0.221509</td>\n",
       "      <td>0</td>\n",
       "    </tr>\n",
       "    <tr>\n",
       "      <th>2</th>\n",
       "      <td>1.800587</td>\n",
       "      <td>0.309873</td>\n",
       "      <td>0.160308</td>\n",
       "      <td>0</td>\n",
       "    </tr>\n",
       "    <tr>\n",
       "      <th>3</th>\n",
       "      <td>0.627451</td>\n",
       "      <td>0.472441</td>\n",
       "      <td>0.221509</td>\n",
       "      <td>0</td>\n",
       "    </tr>\n",
       "    <tr>\n",
       "      <th>4</th>\n",
       "      <td>0.472141</td>\n",
       "      <td>0.130859</td>\n",
       "      <td>0.432063</td>\n",
       "      <td>0</td>\n",
       "    </tr>\n",
       "  </tbody>\n",
       "</table>\n",
       "</div>"
      ],
      "text/plain": [
       "        PPG       ECG      resp  Class\n",
       "0  0.486275  0.740157  0.221509      0\n",
       "1  0.388235  0.039370  0.221509      0\n",
       "2  1.800587  0.309873  0.160308      0\n",
       "3  0.627451  0.472441  0.221509      0\n",
       "4  0.472141  0.130859  0.432063      0"
      ]
     },
     "execution_count": 37,
     "metadata": {},
     "output_type": "execute_result"
    }
   ],
   "source": [
    "df.head()"
   ]
  },
  {
   "cell_type": "code",
   "execution_count": null,
   "id": "0d6fe15d",
   "metadata": {},
   "outputs": [],
   "source": []
  },
  {
   "cell_type": "markdown",
   "id": "5dbb64af",
   "metadata": {},
   "source": [
    "## Heatmap"
   ]
  },
  {
   "cell_type": "code",
   "execution_count": 38,
   "id": "659a3697",
   "metadata": {},
   "outputs": [
    {
     "name": "stdout",
     "output_type": "stream",
     "text": [
      "           PPG       ECG      resp\n",
      "PPG   1.000000 -0.089126 -0.045083\n",
      "ECG  -0.089126  1.000000  0.021625\n",
      "resp -0.045083  0.021625  1.000000\n"
     ]
    },
    {
     "data": {
      "image/png": "[encoded data removed]",
      "text/plain": [
       "<Figure size 640x480 with 2 Axes>"
      ]
     },
     "metadata": {},
     "output_type": "display_data"
    }
   ],
   "source": [
    "import seaborn as sns\n",
    "import matplotlib.pyplot as plt\n",
    "\n",
    "correlation_matrix = df[['PPG', 'ECG', 'resp']].corr()\n",
    "\n",
    "print(correlation_matrix)\n",
    "\n",
    "sns.heatmap(correlation_matrix, annot=True, cmap='coolwarm', cbar=True, square=True)\n",
    "plt.title('Correlation Heatmap between PPG and ECG')\n",
    "plt.show()"
   ]
  },
  {
   "cell_type": "markdown",
   "id": "d6f2c5f0",
   "metadata": {},
   "source": [
    "## Split"
   ]
  },
  {
   "cell_type": "code",
   "execution_count": 39,
   "id": "3d5592fc",
   "metadata": {},
   "outputs": [],
   "source": [
    "X = df.drop(\"Class\", axis = 1)\n",
    "y = df[\"Class\"]"
   ]
  },
  {
   "cell_type": "code",
   "execution_count": 40,
   "id": "5eb52121",
   "metadata": {},
   "outputs": [
    {
     "data": {
      "text/plain": [
       "0        0\n",
       "1        0\n",
       "2        0\n",
       "3        0\n",
       "4        0\n",
       "        ..\n",
       "22045    1\n",
       "22046    0\n",
       "22047    1\n",
       "22048    1\n",
       "22049    0\n",
       "Name: Class, Length: 22050, dtype: int64"
      ]
     },
     "execution_count": 40,
     "metadata": {},
     "output_type": "execute_result"
    }
   ],
   "source": [
    "y"
   ]
  },
  {
   "cell_type": "code",
   "execution_count": 41,
   "id": "2b340609",
   "metadata": {},
   "outputs": [
    {
     "data": {
      "text/html": [
       "<div>\n",
       "<style scoped>\n",
       "    .dataframe tbody tr th:only-of-type {\n",
       "        vertical-align: middle;\n",
       "    }\n",
       "\n",
       "    .dataframe tbody tr th {\n",
       "        vertical-align: top;\n",
       "    }\n",
       "\n",
       "    .dataframe thead th {\n",
       "        text-align: right;\n",
       "    }\n",
       "</style>\n",
       "<table border=\"1\" class=\"dataframe\">\n",
       "  <thead>\n",
       "    <tr style=\"text-align: right;\">\n",
       "      <th></th>\n",
       "      <th>PPG</th>\n",
       "      <th>ECG</th>\n",
       "      <th>resp</th>\n",
       "    </tr>\n",
       "  </thead>\n",
       "  <tbody>\n",
       "    <tr>\n",
       "      <th>0</th>\n",
       "      <td>0.486275</td>\n",
       "      <td>0.740157</td>\n",
       "      <td>0.221509</td>\n",
       "    </tr>\n",
       "    <tr>\n",
       "      <th>1</th>\n",
       "      <td>0.388235</td>\n",
       "      <td>0.039370</td>\n",
       "      <td>0.221509</td>\n",
       "    </tr>\n",
       "    <tr>\n",
       "      <th>2</th>\n",
       "      <td>1.800587</td>\n",
       "      <td>0.309873</td>\n",
       "      <td>0.160308</td>\n",
       "    </tr>\n",
       "    <tr>\n",
       "      <th>3</th>\n",
       "      <td>0.627451</td>\n",
       "      <td>0.472441</td>\n",
       "      <td>0.221509</td>\n",
       "    </tr>\n",
       "    <tr>\n",
       "      <th>4</th>\n",
       "      <td>0.472141</td>\n",
       "      <td>0.130859</td>\n",
       "      <td>0.432063</td>\n",
       "    </tr>\n",
       "    <tr>\n",
       "      <th>...</th>\n",
       "      <td>...</td>\n",
       "      <td>...</td>\n",
       "      <td>...</td>\n",
       "    </tr>\n",
       "    <tr>\n",
       "      <th>22045</th>\n",
       "      <td>2.076246</td>\n",
       "      <td>0.079668</td>\n",
       "      <td>0.309064</td>\n",
       "    </tr>\n",
       "    <tr>\n",
       "      <th>22046</th>\n",
       "      <td>0.643137</td>\n",
       "      <td>0.803150</td>\n",
       "      <td>0.221509</td>\n",
       "    </tr>\n",
       "    <tr>\n",
       "      <th>22047</th>\n",
       "      <td>0.344086</td>\n",
       "      <td>0.390625</td>\n",
       "      <td>0.146628</td>\n",
       "    </tr>\n",
       "    <tr>\n",
       "      <th>22048</th>\n",
       "      <td>1.776149</td>\n",
       "      <td>0.495112</td>\n",
       "      <td>-0.067961</td>\n",
       "    </tr>\n",
       "    <tr>\n",
       "      <th>22049</th>\n",
       "      <td>1.486804</td>\n",
       "      <td>0.354839</td>\n",
       "      <td>-0.254734</td>\n",
       "    </tr>\n",
       "  </tbody>\n",
       "</table>\n",
       "<p>22050 rows × 3 columns</p>\n",
       "</div>"
      ],
      "text/plain": [
       "            PPG       ECG      resp\n",
       "0      0.486275  0.740157  0.221509\n",
       "1      0.388235  0.039370  0.221509\n",
       "2      1.800587  0.309873  0.160308\n",
       "3      0.627451  0.472441  0.221509\n",
       "4      0.472141  0.130859  0.432063\n",
       "...         ...       ...       ...\n",
       "22045  2.076246  0.079668  0.309064\n",
       "22046  0.643137  0.803150  0.221509\n",
       "22047  0.344086  0.390625  0.146628\n",
       "22048  1.776149  0.495112 -0.067961\n",
       "22049  1.486804  0.354839 -0.254734\n",
       "\n",
       "[22050 rows x 3 columns]"
      ]
     },
     "execution_count": 41,
     "metadata": {},
     "output_type": "execute_result"
    }
   ],
   "source": [
    "X"
   ]
  },
  {
   "cell_type": "code",
   "execution_count": 42,
   "id": "dd45c679",
   "metadata": {},
   "outputs": [
    {
     "name": "stdout",
     "output_type": "stream",
     "text": [
      "PPG     float64\n",
      "ECG     float64\n",
      "resp    float64\n",
      "dtype: object\n",
      "PPG     0\n",
      "ECG     0\n",
      "resp    0\n",
      "dtype: int64\n"
     ]
    }
   ],
   "source": [
    "X_train, X_test, y_train, y_test = train_test_split(X, y, test_size=0.33, random_state=42)\n",
    "\n",
    "print(X_train.dtypes)\n",
    "print(X_train.isnull().sum())"
   ]
  },
  {
   "cell_type": "code",
   "execution_count": null,
   "id": "01edc84e",
   "metadata": {},
   "outputs": [],
   "source": []
  },
  {
   "cell_type": "markdown",
   "id": "b8dbafe3",
   "metadata": {},
   "source": [
    "## Model"
   ]
  },
  {
   "cell_type": "code",
   "execution_count": 43,
   "id": "921cad88",
   "metadata": {},
   "outputs": [],
   "source": [
    "model_Acc_List = []\n",
    "model_Name_List = [\"RFClassifier\", \"KNClassifier\", \"ABClassifier\", \"SGDClassifier\"]"
   ]
  },
  {
   "cell_type": "markdown",
   "id": "9747170d",
   "metadata": {},
   "source": [
    "## RandomForestClassifier"
   ]
  },
  {
   "cell_type": "code",
   "execution_count": 44,
   "id": "1fc2c1d9",
   "metadata": {},
   "outputs": [
    {
     "name": "stdout",
     "output_type": "stream",
     "text": [
      "Acc = 0.9013329668819569\n",
      "              precision    recall  f1-score   support\n",
      "\n",
      "           0       0.91      0.91      0.91      3952\n",
      "           1       0.89      0.89      0.89      3325\n",
      "\n",
      "    accuracy                           0.90      7277\n",
      "   macro avg       0.90      0.90      0.90      7277\n",
      "weighted avg       0.90      0.90      0.90      7277\n",
      "\n"
     ]
    }
   ],
   "source": [
    "clf = RandomForestClassifier(random_state=50)\n",
    "clf.fit(X_train, y_train)\n",
    "\n",
    "predic = clf.predict(X_test)\n",
    "\n",
    "acc = accuracy_score(predic, y_test)\n",
    "model_Acc_List.append(acc)\n",
    "print(f\"Acc = {acc}\")\n",
    "\n",
    "report = classification_report(predic, y_test)\n",
    "print(report)"
   ]
  },
  {
   "cell_type": "code",
   "execution_count": null,
   "id": "a689d496",
   "metadata": {},
   "outputs": [],
   "source": []
  },
  {
   "cell_type": "markdown",
   "id": "ddb3c245",
   "metadata": {},
   "source": [
    "## KNeighborsClassifier"
   ]
  },
  {
   "cell_type": "code",
   "execution_count": 45,
   "id": "a0744783",
   "metadata": {},
   "outputs": [
    {
     "name": "stdout",
     "output_type": "stream",
     "text": [
      "Acc :  0.8750858870413633\n",
      "              precision    recall  f1-score   support\n",
      "\n",
      "           0       0.88      0.89      0.88      3915\n",
      "           1       0.87      0.86      0.86      3362\n",
      "\n",
      "    accuracy                           0.88      7277\n",
      "   macro avg       0.87      0.87      0.87      7277\n",
      "weighted avg       0.88      0.88      0.88      7277\n",
      "\n"
     ]
    }
   ],
   "source": [
    "from sklearn.neighbors import KNeighborsClassifier\n",
    "\n",
    "model = KNeighborsClassifier(n_neighbors=7)\n",
    "model.fit(X_train, y_train)\n",
    "\n",
    "predic = model.predict(X_test)\n",
    "acc = accuracy_score(predic, y_test)\n",
    "model_Acc_List.append(acc)\n",
    "print(\"Acc : \", acc)\n",
    "\n",
    "report = classification_report(predic, y_test)\n",
    "print(report)"
   ]
  },
  {
   "cell_type": "code",
   "execution_count": null,
   "id": "4ceaa9a8",
   "metadata": {},
   "outputs": [],
   "source": []
  },
  {
   "cell_type": "markdown",
   "id": "420f2726",
   "metadata": {},
   "source": [
    "## AdaBoostClassifier"
   ]
  },
  {
   "cell_type": "code",
   "execution_count": 46,
   "id": "063144c7",
   "metadata": {},
   "outputs": [
    {
     "name": "stdout",
     "output_type": "stream",
     "text": [
      "Acc :  0.7358801703998901\n",
      "              precision    recall  f1-score   support\n",
      "\n",
      "           0       0.75      0.76      0.76      3906\n",
      "           1       0.72      0.71      0.71      3371\n",
      "\n",
      "    accuracy                           0.74      7277\n",
      "   macro avg       0.73      0.73      0.73      7277\n",
      "weighted avg       0.74      0.74      0.74      7277\n",
      "\n"
     ]
    }
   ],
   "source": [
    "from sklearn.ensemble import AdaBoostClassifier\n",
    "\n",
    "model = AdaBoostClassifier()\n",
    "model.fit(X_train, y_train)\n",
    "\n",
    "predic = model.predict(X_test)\n",
    "\n",
    "acc = accuracy_score(predic, y_test)\n",
    "model_Acc_List.append(acc)\n",
    "print(\"Acc : \", acc)\n",
    "\n",
    "report = classification_report(predic, y_test)\n",
    "print(report)"
   ]
  },
  {
   "cell_type": "code",
   "execution_count": null,
   "id": "d08c320e",
   "metadata": {},
   "outputs": [],
   "source": []
  },
  {
   "cell_type": "markdown",
   "id": "27f4a1c9",
   "metadata": {},
   "source": [
    "## SGDClassifier"
   ]
  },
  {
   "cell_type": "code",
   "execution_count": 47,
   "id": "6bf03ce3",
   "metadata": {},
   "outputs": [
    {
     "name": "stdout",
     "output_type": "stream",
     "text": [
      "Acc :  0.5439054555448674\n",
      "              precision    recall  f1-score   support\n",
      "\n",
      "           0       1.00      0.54      0.70      7277\n",
      "           1       0.00      0.00      0.00         0\n",
      "\n",
      "    accuracy                           0.54      7277\n",
      "   macro avg       0.50      0.27      0.35      7277\n",
      "weighted avg       1.00      0.54      0.70      7277\n",
      "\n"
     ]
    }
   ],
   "source": [
    "from sklearn.linear_model import SGDClassifier\n",
    "\n",
    "model = SGDClassifier()\n",
    "\n",
    "model.fit(X_train, y_train)\n",
    "predic = model.predict(X_test)\n",
    "\n",
    "acc = accuracy_score(predic, y_test)\n",
    "model_Acc_List.append(acc)\n",
    "print(\"Acc : \", acc)\n",
    "\n",
    "report = classification_report(predic, y_test)\n",
    "print(report)"
   ]
  },
  {
   "cell_type": "code",
   "execution_count": null,
   "id": "b4b70e43",
   "metadata": {},
   "outputs": [],
   "source": []
  },
  {
   "cell_type": "markdown",
   "id": "3828f8b3",
   "metadata": {},
   "source": [
    "## Plotting"
   ]
  },
  {
   "cell_type": "code",
   "execution_count": 48,
   "id": "3b316a29",
   "metadata": {},
   "outputs": [
    {
     "name": "stdout",
     "output_type": "stream",
     "text": [
      "[0.9013329668819569, 0.8750858870413633, 0.7358801703998901, 0.5439054555448674]\n",
      "['RFClassifier', 'KNClassifier', 'ABClassifier', 'SGDClassifier']\n"
     ]
    }
   ],
   "source": [
    "print(model_Acc_List)\n",
    "print(model_Name_List)"
   ]
  },
  {
   "cell_type": "code",
   "execution_count": 49,
   "id": "0243514b",
   "metadata": {},
   "outputs": [],
   "source": [
    "import matplotlib.pyplot as plt"
   ]
  },
  {
   "cell_type": "code",
   "execution_count": 50,
   "id": "207f2d76",
   "metadata": {},
   "outputs": [
    {
     "data": {
      "image/png": "[encoded data removed]",
      "text/plain": [
       "<Figure size 800x500 with 1 Axes>"
      ]
     },
     "metadata": {},
     "output_type": "display_data"
    }
   ],
   "source": [
    "plt.figure(figsize=(8, 5))\n",
    "plt.bar(model_Name_List, model_Acc_List, color='blue')\n",
    "plt.title('Accuracy Comparison of Different Models')\n",
    "plt.xlabel('Models')\n",
    "plt.ylabel('Accuracy')\n",
    "plt.ylim(0, 1)\n",
    "plt.show()"
   ]
  },
  {
   "cell_type": "code",
   "execution_count": null,
   "id": "810090a1",
   "metadata": {},
   "outputs": [],
   "source": []
  },
  {
   "cell_type": "markdown",
   "id": "d2e8e2e8",
   "metadata": {},
   "source": [
    "## Model pickle"
   ]
  },
  {
   "cell_type": "code",
   "execution_count": 51,
   "id": "160d6494",
   "metadata": {},
   "outputs": [],
   "source": [
    "import pickle\n",
    "with open('model.pkl', 'wb') as file:\n",
    "    pickle.dump(clf, file)"
   ]
  },
  {
   "cell_type": "code",
   "execution_count": null,
   "id": "d57f0ac5",
   "metadata": {},
   "outputs": [],
   "source": []
  },
  {
   "cell_type": "markdown",
   "id": "2abc55c7",
   "metadata": {},
   "source": [
    "Thank you!"
   ]
  }
 ],
 "metadata": {
  "kernelspec": {
   "display_name": "Python 3 (ipykernel)",
   "language": "python",
   "name": "python3"
  },
  "language_info": {
   "codemirror_mode": {
    "name": "ipython",
    "version": 3
   },
   "file_extension": ".py",
   "mimetype": "text/x-python",
   "name": "python",
   "nbconvert_exporter": "python",
   "pygments_lexer": "ipython3",
   "version": "3.11.5"
  }
 },
 "nbformat": 4,
 "nbformat_minor": 5
}
